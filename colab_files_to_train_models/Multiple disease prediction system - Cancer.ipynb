{
 "cells": [
  {
   "cell_type": "code",
   "execution_count": 1,
   "id": "e8d2f9e6",
   "metadata": {
    "execution": {
     "iopub.execute_input": "2024-07-05T17:19:24.933590Z",
     "iopub.status.busy": "2024-07-05T17:19:24.933033Z",
     "iopub.status.idle": "2024-07-05T17:19:27.832612Z",
     "shell.execute_reply": "2024-07-05T17:19:27.831394Z"
    },
    "papermill": {
     "duration": 2.910864,
     "end_time": "2024-07-05T17:19:27.835516",
     "exception": false,
     "start_time": "2024-07-05T17:19:24.924652",
     "status": "completed"
    },
    "tags": []
   },
   "outputs": [],
   "source": [
    "#Importing the necessary dependencies\n",
    "import pandas as pd\n",
    "import numpy as np\n",
    "import matplotlib.pyplot as plt\n",
    "from sklearn.ensemble import RandomForestClassifier\n",
    "from sklearn.model_selection import train_test_split\n",
    "from sklearn.metrics import accuracy_score, roc_auc_score, f1_score,log_loss, confusion_matrix\n"
   ]
  },
  {
   "cell_type": "markdown",
   "id": "2dd9efe7",
   "metadata": {
    "papermill": {
     "duration": 0.005897,
     "end_time": "2024-07-05T17:19:27.848161",
     "exception": false,
     "start_time": "2024-07-05T17:19:27.842264",
     "status": "completed"
    },
    "tags": []
   },
   "source": [
    "#  Data Analysis: Working on the dataset"
   ]
  },
  {
   "cell_type": "markdown",
   "id": "57f5c748",
   "metadata": {
    "papermill": {
     "duration": 0.005923,
     "end_time": "2024-07-05T17:19:27.860321",
     "exception": false,
     "start_time": "2024-07-05T17:19:27.854398",
     "status": "completed"
    },
    "tags": []
   },
   "source": [
    "### Importing the dataset\n"
   ]
  },
  {
   "cell_type": "code",
   "execution_count": 7,
   "id": "21cfa835",
   "metadata": {
    "execution": {
     "iopub.execute_input": "2024-07-05T17:19:27.875273Z",
     "iopub.status.busy": "2024-07-05T17:19:27.874498Z",
     "iopub.status.idle": "2024-07-05T17:19:27.942258Z",
     "shell.execute_reply": "2024-07-05T17:19:27.940881Z"
    },
    "papermill": {
     "duration": 0.078151,
     "end_time": "2024-07-05T17:19:27.944972",
     "exception": false,
     "start_time": "2024-07-05T17:19:27.866821",
     "status": "completed"
    },
    "tags": []
   },
   "outputs": [],
   "source": [
    "# loading the diabetes dataset to a pandas DataFrame\n",
    "dataset = pd.read_csv(\"C:/Users/ahmed/OneDrive/Documents/GitHub/SEED_Hackathon/dataset/Cancer.csv\") "
   ]
  },
  {
   "cell_type": "markdown",
   "id": "b685d1b9",
   "metadata": {
    "papermill": {
     "duration": 0.006152,
     "end_time": "2024-07-05T17:19:27.957785",
     "exception": false,
     "start_time": "2024-07-05T17:19:27.951633",
     "status": "completed"
    },
    "tags": []
   },
   "source": [
    "### I will do a little bit of inspection and visualization of the dataset."
   ]
  },
  {
   "cell_type": "code",
   "execution_count": 8,
   "id": "7979153e",
   "metadata": {
    "execution": {
     "iopub.execute_input": "2024-07-05T17:19:27.972321Z",
     "iopub.status.busy": "2024-07-05T17:19:27.971877Z",
     "iopub.status.idle": "2024-07-05T17:19:28.014737Z",
     "shell.execute_reply": "2024-07-05T17:19:28.013549Z"
    },
    "papermill": {
     "duration": 0.053082,
     "end_time": "2024-07-05T17:19:28.017294",
     "exception": false,
     "start_time": "2024-07-05T17:19:27.964212",
     "status": "completed"
    },
    "tags": []
   },
   "outputs": [
    {
     "data": {
      "text/html": [
       "<div>\n",
       "<style scoped>\n",
       "    .dataframe tbody tr th:only-of-type {\n",
       "        vertical-align: middle;\n",
       "    }\n",
       "\n",
       "    .dataframe tbody tr th {\n",
       "        vertical-align: top;\n",
       "    }\n",
       "\n",
       "    .dataframe thead th {\n",
       "        text-align: right;\n",
       "    }\n",
       "</style>\n",
       "<table border=\"1\" class=\"dataframe\">\n",
       "  <thead>\n",
       "    <tr style=\"text-align: right;\">\n",
       "      <th></th>\n",
       "      <th>Age</th>\n",
       "      <th>Gender</th>\n",
       "      <th>BMI</th>\n",
       "      <th>Smoking</th>\n",
       "      <th>GeneticRisk</th>\n",
       "      <th>PhysicalActivity</th>\n",
       "      <th>AlcoholIntake</th>\n",
       "      <th>CancerHistory</th>\n",
       "      <th>Diagnosis</th>\n",
       "    </tr>\n",
       "  </thead>\n",
       "  <tbody>\n",
       "    <tr>\n",
       "      <th>count</th>\n",
       "      <td>1500.000000</td>\n",
       "      <td>1500.000000</td>\n",
       "      <td>1500.000000</td>\n",
       "      <td>1500.000000</td>\n",
       "      <td>1500.000000</td>\n",
       "      <td>1500.000000</td>\n",
       "      <td>1500.000000</td>\n",
       "      <td>1500.000000</td>\n",
       "      <td>1500.000000</td>\n",
       "    </tr>\n",
       "    <tr>\n",
       "      <th>mean</th>\n",
       "      <td>50.320000</td>\n",
       "      <td>0.490667</td>\n",
       "      <td>27.513321</td>\n",
       "      <td>0.269333</td>\n",
       "      <td>0.508667</td>\n",
       "      <td>4.897929</td>\n",
       "      <td>2.417987</td>\n",
       "      <td>0.144000</td>\n",
       "      <td>0.371333</td>\n",
       "    </tr>\n",
       "    <tr>\n",
       "      <th>std</th>\n",
       "      <td>17.640968</td>\n",
       "      <td>0.500080</td>\n",
       "      <td>7.230012</td>\n",
       "      <td>0.443761</td>\n",
       "      <td>0.678895</td>\n",
       "      <td>2.866162</td>\n",
       "      <td>1.419318</td>\n",
       "      <td>0.351207</td>\n",
       "      <td>0.483322</td>\n",
       "    </tr>\n",
       "    <tr>\n",
       "      <th>min</th>\n",
       "      <td>20.000000</td>\n",
       "      <td>0.000000</td>\n",
       "      <td>15.000291</td>\n",
       "      <td>0.000000</td>\n",
       "      <td>0.000000</td>\n",
       "      <td>0.002410</td>\n",
       "      <td>0.001215</td>\n",
       "      <td>0.000000</td>\n",
       "      <td>0.000000</td>\n",
       "    </tr>\n",
       "    <tr>\n",
       "      <th>25%</th>\n",
       "      <td>35.000000</td>\n",
       "      <td>0.000000</td>\n",
       "      <td>21.483134</td>\n",
       "      <td>0.000000</td>\n",
       "      <td>0.000000</td>\n",
       "      <td>2.434609</td>\n",
       "      <td>1.210598</td>\n",
       "      <td>0.000000</td>\n",
       "      <td>0.000000</td>\n",
       "    </tr>\n",
       "    <tr>\n",
       "      <th>50%</th>\n",
       "      <td>51.000000</td>\n",
       "      <td>0.000000</td>\n",
       "      <td>27.598494</td>\n",
       "      <td>0.000000</td>\n",
       "      <td>0.000000</td>\n",
       "      <td>4.834316</td>\n",
       "      <td>2.382971</td>\n",
       "      <td>0.000000</td>\n",
       "      <td>0.000000</td>\n",
       "    </tr>\n",
       "    <tr>\n",
       "      <th>75%</th>\n",
       "      <td>66.000000</td>\n",
       "      <td>1.000000</td>\n",
       "      <td>33.850837</td>\n",
       "      <td>1.000000</td>\n",
       "      <td>1.000000</td>\n",
       "      <td>7.409896</td>\n",
       "      <td>3.585624</td>\n",
       "      <td>0.000000</td>\n",
       "      <td>1.000000</td>\n",
       "    </tr>\n",
       "    <tr>\n",
       "      <th>max</th>\n",
       "      <td>80.000000</td>\n",
       "      <td>1.000000</td>\n",
       "      <td>39.958688</td>\n",
       "      <td>1.000000</td>\n",
       "      <td>2.000000</td>\n",
       "      <td>9.994607</td>\n",
       "      <td>4.987115</td>\n",
       "      <td>1.000000</td>\n",
       "      <td>1.000000</td>\n",
       "    </tr>\n",
       "  </tbody>\n",
       "</table>\n",
       "</div>"
      ],
      "text/plain": [
       "               Age       Gender          BMI      Smoking  GeneticRisk  \\\n",
       "count  1500.000000  1500.000000  1500.000000  1500.000000  1500.000000   \n",
       "mean     50.320000     0.490667    27.513321     0.269333     0.508667   \n",
       "std      17.640968     0.500080     7.230012     0.443761     0.678895   \n",
       "min      20.000000     0.000000    15.000291     0.000000     0.000000   \n",
       "25%      35.000000     0.000000    21.483134     0.000000     0.000000   \n",
       "50%      51.000000     0.000000    27.598494     0.000000     0.000000   \n",
       "75%      66.000000     1.000000    33.850837     1.000000     1.000000   \n",
       "max      80.000000     1.000000    39.958688     1.000000     2.000000   \n",
       "\n",
       "       PhysicalActivity  AlcoholIntake  CancerHistory    Diagnosis  \n",
       "count       1500.000000    1500.000000    1500.000000  1500.000000  \n",
       "mean           4.897929       2.417987       0.144000     0.371333  \n",
       "std            2.866162       1.419318       0.351207     0.483322  \n",
       "min            0.002410       0.001215       0.000000     0.000000  \n",
       "25%            2.434609       1.210598       0.000000     0.000000  \n",
       "50%            4.834316       2.382971       0.000000     0.000000  \n",
       "75%            7.409896       3.585624       0.000000     1.000000  \n",
       "max            9.994607       4.987115       1.000000     1.000000  "
      ]
     },
     "execution_count": 8,
     "metadata": {},
     "output_type": "execute_result"
    }
   ],
   "source": [
    "dataset.describe()"
   ]
  },
  {
   "cell_type": "code",
   "execution_count": 9,
   "id": "3c0a9bce",
   "metadata": {
    "execution": {
     "iopub.execute_input": "2024-07-05T17:19:28.033300Z",
     "iopub.status.busy": "2024-07-05T17:19:28.032867Z",
     "iopub.status.idle": "2024-07-05T17:19:30.120019Z",
     "shell.execute_reply": "2024-07-05T17:19:30.118734Z"
    },
    "papermill": {
     "duration": 2.098222,
     "end_time": "2024-07-05T17:19:30.122838",
     "exception": false,
     "start_time": "2024-07-05T17:19:28.024616",
     "status": "completed"
    },
    "tags": []
   },
   "outputs": [
    {
     "data": {
      "image/png": "[encoded data removed]",
      "text/plain": [
       "<Figure size 1000x1000 with 9 Axes>"
      ]
     },
     "metadata": {},
     "output_type": "display_data"
    }
   ],
   "source": [
    "plt.figure(figsize=(10,10))\n",
    "for index, column in enumerate(dataset.columns):\n",
    "    plt.subplot(3,3,index+1)\n",
    "    plt.hist(dataset[column])\n",
    "    plt.title(column)\n",
    "    #plt.show()"
   ]
  },
  {
   "cell_type": "markdown",
   "id": "b6078b2f",
   "metadata": {
    "papermill": {
     "duration": 0.008044,
     "end_time": "2024-07-05T17:19:30.139239",
     "exception": false,
     "start_time": "2024-07-05T17:19:30.131195",
     "status": "completed"
    },
    "tags": []
   },
   "source": [
    "The dataset seems evenly distributed...\n",
    "No need for extensive data cleaning and analysis because the dataset seems to have been preprocessed very nicely."
   ]
  },
  {
   "cell_type": "code",
   "execution_count": 13,
   "id": "818604ae",
   "metadata": {
    "execution": {
     "iopub.execute_input": "2024-07-05T17:19:30.157270Z",
     "iopub.status.busy": "2024-07-05T17:19:30.156825Z",
     "iopub.status.idle": "2024-07-05T17:19:30.186438Z",
     "shell.execute_reply": "2024-07-05T17:19:30.185237Z"
    },
    "papermill": {
     "duration": 0.0419,
     "end_time": "2024-07-05T17:19:30.189380",
     "exception": false,
     "start_time": "2024-07-05T17:19:30.147480",
     "status": "completed"
    },
    "tags": []
   },
   "outputs": [
    {
     "data": {
      "text/html": [
       "<div>\n",
       "<style scoped>\n",
       "    .dataframe tbody tr th:only-of-type {\n",
       "        vertical-align: middle;\n",
       "    }\n",
       "\n",
       "    .dataframe tbody tr th {\n",
       "        vertical-align: top;\n",
       "    }\n",
       "\n",
       "    .dataframe thead th {\n",
       "        text-align: right;\n",
       "    }\n",
       "</style>\n",
       "<table border=\"1\" class=\"dataframe\">\n",
       "  <thead>\n",
       "    <tr style=\"text-align: right;\">\n",
       "      <th></th>\n",
       "      <th>Age</th>\n",
       "      <th>Gender</th>\n",
       "      <th>BMI</th>\n",
       "      <th>Smoking</th>\n",
       "      <th>GeneticRisk</th>\n",
       "      <th>PhysicalActivity</th>\n",
       "      <th>AlcoholIntake</th>\n",
       "      <th>CancerHistory</th>\n",
       "    </tr>\n",
       "  </thead>\n",
       "  <tbody>\n",
       "    <tr>\n",
       "      <th>0</th>\n",
       "      <td>0.435350</td>\n",
       "      <td>1.018505</td>\n",
       "      <td>-1.580635</td>\n",
       "      <td>-0.606933</td>\n",
       "      <td>0.723725</td>\n",
       "      <td>1.133335</td>\n",
       "      <td>1.219059</td>\n",
       "      <td>2.437310</td>\n",
       "    </tr>\n",
       "    <tr>\n",
       "      <th>1</th>\n",
       "      <td>1.172271</td>\n",
       "      <td>-0.981177</td>\n",
       "      <td>0.458570</td>\n",
       "      <td>-0.606933</td>\n",
       "      <td>0.723725</td>\n",
       "      <td>1.557379</td>\n",
       "      <td>0.776215</td>\n",
       "      <td>-0.410015</td>\n",
       "    </tr>\n",
       "    <tr>\n",
       "      <th>2</th>\n",
       "      <td>-0.131512</td>\n",
       "      <td>1.018505</td>\n",
       "      <td>1.559024</td>\n",
       "      <td>-0.606933</td>\n",
       "      <td>2.196706</td>\n",
       "      <td>0.082776</td>\n",
       "      <td>1.627810</td>\n",
       "      <td>-0.410015</td>\n",
       "    </tr>\n",
       "    <tr>\n",
       "      <th>3</th>\n",
       "      <td>-0.925119</td>\n",
       "      <td>-0.981177</td>\n",
       "      <td>0.349512</td>\n",
       "      <td>-0.606933</td>\n",
       "      <td>-0.749256</td>\n",
       "      <td>1.606630</td>\n",
       "      <td>-0.263050</td>\n",
       "      <td>-0.410015</td>\n",
       "    </tr>\n",
       "    <tr>\n",
       "      <th>4</th>\n",
       "      <td>0.662095</td>\n",
       "      <td>1.018505</td>\n",
       "      <td>1.101852</td>\n",
       "      <td>-0.606933</td>\n",
       "      <td>-0.749256</td>\n",
       "      <td>0.160131</td>\n",
       "      <td>0.628374</td>\n",
       "      <td>-0.410015</td>\n",
       "    </tr>\n",
       "  </tbody>\n",
       "</table>\n",
       "</div>"
      ],
      "text/plain": [
       "        Age    Gender       BMI   Smoking  GeneticRisk  PhysicalActivity  \\\n",
       "0  0.435350  1.018505 -1.580635 -0.606933     0.723725          1.133335   \n",
       "1  1.172271 -0.981177  0.458570 -0.606933     0.723725          1.557379   \n",
       "2 -0.131512  1.018505  1.559024 -0.606933     2.196706          0.082776   \n",
       "3 -0.925119 -0.981177  0.349512 -0.606933    -0.749256          1.606630   \n",
       "4  0.662095  1.018505  1.101852 -0.606933    -0.749256          0.160131   \n",
       "\n",
       "   AlcoholIntake  CancerHistory  \n",
       "0       1.219059       2.437310  \n",
       "1       0.776215      -0.410015  \n",
       "2       1.627810      -0.410015  \n",
       "3      -0.263050      -0.410015  \n",
       "4       0.628374      -0.410015  "
      ]
     },
     "execution_count": 13,
     "metadata": {},
     "output_type": "execute_result"
    }
   ],
   "source": [
    "# Spliting the dataset into train and test pandas dataframes\n",
    "train_split = 1200\n",
    "train_df = dataset.iloc[:train_split, :]\n",
    "test_df = dataset.iloc[train_split:, :]\n",
    "\n",
    "features_indices = len(dataset.columns) - 1\n",
    "X_df = dataset.iloc[:, :features_indices]\n",
    "y_df = dataset.iloc[:, -1]\n",
    "\n",
    "# Nominalize the dataset\n",
    "X_df_mean = X_df.mean() # mean\n",
    "X_df_std = X_df.std() # standard deviation\n",
    "\n",
    "X_df_norm = (X_df - X_df_mean) / X_df_std\n",
    "X_df_norm.head(5)"
   ]
  },
  {
   "cell_type": "code",
   "execution_count": 16,
   "id": "bcf49405",
   "metadata": {
    "execution": {
     "iopub.execute_input": "2024-07-05T17:19:30.209192Z",
     "iopub.status.busy": "2024-07-05T17:19:30.208711Z",
     "iopub.status.idle": "2024-07-05T17:19:30.217806Z",
     "shell.execute_reply": "2024-07-05T17:19:30.216756Z"
    },
    "papermill": {
     "duration": 0.021965,
     "end_time": "2024-07-05T17:19:30.220202",
     "exception": false,
     "start_time": "2024-07-05T17:19:30.198237",
     "status": "completed"
    },
    "tags": []
   },
   "outputs": [],
   "source": [
    "# Using sklearn to implement random forest algorithm\n",
    "def train_and_eval_model(model_name: str, X_df: pd.DataFrame, y_df: pd.DataFrame, train_size: float):\n",
    "    # Turn the dataframes to numpy arrays\n",
    "    X = np.float64(X_df.values)\n",
    "    y = np.float64(y_df.values)\n",
    "    X_train, X_test, y_train, y_test = train_test_split(X, y, train_size=train_size, shuffle=True, random_state=42)\n",
    "\n",
    "    model = RandomForestClassifier(n_estimators=100, random_state=42)\n",
    "\n",
    "    model.fit(X_train, y_train)\n",
    "\n",
    "    y_pred = model.predict(X_test)\n",
    "    accuracy = accuracy_score(y_test, y_pred)\n",
    "    auroc = roc_auc_score(y_test, y_pred)\n",
    "    f1score = f1_score(y_test, y_pred)\n",
    "    confusion_mtx = confusion_matrix(y_test, y_pred)\n",
    "\n",
    "    return model, {'Model_name': model_name, 'Accuracy': accuracy, 'AUROC': auroc, 'F1Score': f1score, 'Confusion matrix': confusion_mtx}\n"
   ]
  },
  {
   "cell_type": "code",
   "execution_count": 17,
   "id": "5fcdd99d",
   "metadata": {
    "execution": {
     "iopub.execute_input": "2024-07-05T17:19:30.238755Z",
     "iopub.status.busy": "2024-07-05T17:19:30.238318Z",
     "iopub.status.idle": "2024-07-05T17:19:31.040804Z",
     "shell.execute_reply": "2024-07-05T17:19:31.039560Z"
    },
    "papermill": {
     "duration": 0.815373,
     "end_time": "2024-07-05T17:19:31.043925",
     "exception": false,
     "start_time": "2024-07-05T17:19:30.228552",
     "status": "completed"
    },
    "tags": []
   },
   "outputs": [],
   "source": [
    "# Training a model without data normalization\n",
    "model_0, model_0_metrics = train_and_eval_model(model_name = 'model_0', X_df=X_df, y_df=y_df, train_size=0.8)\n",
    "\n",
    "# Training a model with data normalization\n",
    "model_1, model_1_metrics = train_and_eval_model(model_name = 'model_1', X_df=X_df_norm, y_df=y_df, train_size=0.8)"
   ]
  },
  {
   "cell_type": "code",
   "execution_count": 18,
   "id": "6916cf9e",
   "metadata": {
    "execution": {
     "iopub.execute_input": "2024-07-05T17:19:31.064327Z",
     "iopub.status.busy": "2024-07-05T17:19:31.062777Z",
     "iopub.status.idle": "2024-07-05T17:19:31.083588Z",
     "shell.execute_reply": "2024-07-05T17:19:31.082395Z"
    },
    "papermill": {
     "duration": 0.033667,
     "end_time": "2024-07-05T17:19:31.086326",
     "exception": false,
     "start_time": "2024-07-05T17:19:31.052659",
     "status": "completed"
    },
    "tags": []
   },
   "outputs": [
    {
     "data": {
      "text/html": [
       "<div>\n",
       "<style scoped>\n",
       "    .dataframe tbody tr th:only-of-type {\n",
       "        vertical-align: middle;\n",
       "    }\n",
       "\n",
       "    .dataframe tbody tr th {\n",
       "        vertical-align: top;\n",
       "    }\n",
       "\n",
       "    .dataframe thead th {\n",
       "        text-align: right;\n",
       "    }\n",
       "</style>\n",
       "<table border=\"1\" class=\"dataframe\">\n",
       "  <thead>\n",
       "    <tr style=\"text-align: right;\">\n",
       "      <th></th>\n",
       "      <th>Accuracy</th>\n",
       "      <th>AUROC</th>\n",
       "      <th>F1Score</th>\n",
       "      <th>Confusion matrix</th>\n",
       "    </tr>\n",
       "    <tr>\n",
       "      <th>Model_name</th>\n",
       "      <th></th>\n",
       "      <th></th>\n",
       "      <th></th>\n",
       "      <th></th>\n",
       "    </tr>\n",
       "  </thead>\n",
       "  <tbody>\n",
       "    <tr>\n",
       "      <th>model_0</th>\n",
       "      <td>0.93</td>\n",
       "      <td>0.920633</td>\n",
       "      <td>0.906667</td>\n",
       "      <td>[[177, 7], [14, 102]]</td>\n",
       "    </tr>\n",
       "    <tr>\n",
       "      <th>model_1</th>\n",
       "      <td>0.93</td>\n",
       "      <td>0.920633</td>\n",
       "      <td>0.906667</td>\n",
       "      <td>[[177, 7], [14, 102]]</td>\n",
       "    </tr>\n",
       "  </tbody>\n",
       "</table>\n",
       "</div>"
      ],
      "text/plain": [
       "            Accuracy     AUROC   F1Score       Confusion matrix\n",
       "Model_name                                                     \n",
       "model_0         0.93  0.920633  0.906667  [[177, 7], [14, 102]]\n",
       "model_1         0.93  0.920633  0.906667  [[177, 7], [14, 102]]"
      ]
     },
     "execution_count": 18,
     "metadata": {},
     "output_type": "execute_result"
    }
   ],
   "source": [
    "#Compare the results of both models\n",
    "def compare_models(*model_metrics) -> pd.DataFrame:\n",
    "    compare_models_df = pd.DataFrame(model_metrics, columns=model_metrics[0].keys())\n",
    "    compare_models_df.set_index('Model_name', inplace=True)\n",
    "    return compare_models_df\n",
    "\n",
    "compare_models(model_0_metrics, model_1_metrics)"
   ]
  },
  {
   "cell_type": "markdown",
   "id": "e7d1c8e6",
   "metadata": {
    "papermill": {
     "duration": 0.008469,
     "end_time": "2024-07-05T17:19:31.103632",
     "exception": false,
     "start_time": "2024-07-05T17:19:31.095163",
     "status": "completed"
    },
    "tags": []
   },
   "source": [
    "It seems data normalization doesn't help this model, let's try increasing the size of the train data"
   ]
  },
  {
   "cell_type": "code",
   "execution_count": 19,
   "id": "caba4684",
   "metadata": {
    "execution": {
     "iopub.execute_input": "2024-07-05T17:19:31.122907Z",
     "iopub.status.busy": "2024-07-05T17:19:31.122235Z",
     "iopub.status.idle": "2024-07-05T17:19:31.552415Z",
     "shell.execute_reply": "2024-07-05T17:19:31.551050Z"
    },
    "papermill": {
     "duration": 0.443172,
     "end_time": "2024-07-05T17:19:31.555341",
     "exception": false,
     "start_time": "2024-07-05T17:19:31.112169",
     "status": "completed"
    },
    "tags": []
   },
   "outputs": [
    {
     "data": {
      "text/html": [
       "<div>\n",
       "<style scoped>\n",
       "    .dataframe tbody tr th:only-of-type {\n",
       "        vertical-align: middle;\n",
       "    }\n",
       "\n",
       "    .dataframe tbody tr th {\n",
       "        vertical-align: top;\n",
       "    }\n",
       "\n",
       "    .dataframe thead th {\n",
       "        text-align: right;\n",
       "    }\n",
       "</style>\n",
       "<table border=\"1\" class=\"dataframe\">\n",
       "  <thead>\n",
       "    <tr style=\"text-align: right;\">\n",
       "      <th></th>\n",
       "      <th>Accuracy</th>\n",
       "      <th>AUROC</th>\n",
       "      <th>F1Score</th>\n",
       "      <th>Confusion matrix</th>\n",
       "    </tr>\n",
       "    <tr>\n",
       "      <th>Model_name</th>\n",
       "      <th></th>\n",
       "      <th></th>\n",
       "      <th></th>\n",
       "      <th></th>\n",
       "    </tr>\n",
       "  </thead>\n",
       "  <tbody>\n",
       "    <tr>\n",
       "      <th>model_0</th>\n",
       "      <td>0.930000</td>\n",
       "      <td>0.920633</td>\n",
       "      <td>0.906667</td>\n",
       "      <td>[[177, 7], [14, 102]]</td>\n",
       "    </tr>\n",
       "    <tr>\n",
       "      <th>model_1</th>\n",
       "      <td>0.930000</td>\n",
       "      <td>0.920633</td>\n",
       "      <td>0.906667</td>\n",
       "      <td>[[177, 7], [14, 102]]</td>\n",
       "    </tr>\n",
       "    <tr>\n",
       "      <th>model_2</th>\n",
       "      <td>0.953333</td>\n",
       "      <td>0.944444</td>\n",
       "      <td>0.941176</td>\n",
       "      <td>[[87, 0], [7, 56]]</td>\n",
       "    </tr>\n",
       "  </tbody>\n",
       "</table>\n",
       "</div>"
      ],
      "text/plain": [
       "            Accuracy     AUROC   F1Score       Confusion matrix\n",
       "Model_name                                                     \n",
       "model_0     0.930000  0.920633  0.906667  [[177, 7], [14, 102]]\n",
       "model_1     0.930000  0.920633  0.906667  [[177, 7], [14, 102]]\n",
       "model_2     0.953333  0.944444  0.941176     [[87, 0], [7, 56]]"
      ]
     },
     "execution_count": 19,
     "metadata": {},
     "output_type": "execute_result"
    }
   ],
   "source": [
    "# Creating a model with a train_size of 0.9\n",
    "model_2, model_2_metrics = train_and_eval_model(model_name='model_2', X_df=X_df_norm, y_df=y_df, train_size=0.9)\n",
    "compare_models(model_0_metrics, model_1_metrics, model_2_metrics)"
   ]
  },
  {
   "cell_type": "markdown",
   "id": "3ccbb9f5",
   "metadata": {
    "papermill": {
     "duration": 0.008382,
     "end_time": "2024-07-05T17:19:31.572505",
     "exception": false,
     "start_time": "2024-07-05T17:19:31.564123",
     "status": "completed"
    },
    "tags": []
   },
   "source": [
    "Okay, as expected, increasing the size of the train data increased the model's performance.\n",
    "I will pick the best performing model: `model_2` for inference purposes."
   ]
  },
  {
   "cell_type": "markdown",
   "id": "f56d160d",
   "metadata": {
    "papermill": {
     "duration": 0.00833,
     "end_time": "2024-07-05T17:19:31.589598",
     "exception": false,
     "start_time": "2024-07-05T17:19:31.581268",
     "status": "completed"
    },
    "tags": []
   },
   "source": [
    "## Making an Interface for users to input some data and get diagnosed by the model for cancer\n",
    "* I am doing so because I find it as a fun way to test the model on real world situations."
   ]
  },
  {
   "cell_type": "code",
   "execution_count": 20,
   "id": "da0c9a2a",
   "metadata": {
    "execution": {
     "iopub.execute_input": "2024-07-05T17:19:31.610116Z",
     "iopub.status.busy": "2024-07-05T17:19:31.609520Z",
     "iopub.status.idle": "2024-07-05T17:19:31.628512Z",
     "shell.execute_reply": "2024-07-05T17:19:31.626894Z"
    },
    "papermill": {
     "duration": 0.03231,
     "end_time": "2024-07-05T17:19:31.631227",
     "exception": false,
     "start_time": "2024-07-05T17:19:31.598917",
     "status": "completed"
    },
    "tags": []
   },
   "outputs": [
    {
     "name": "stdout",
     "output_type": "stream",
     "text": [
      "You have been diagnosed to be cancer negative.\n"
     ]
    }
   ],
   "source": [
    "#Creating an Interface for users to input data and get diagnosed for cancer\n",
    "age = 20 #input('Enter your age: ')\n",
    "gender = 0 #input('Enter your gender (0 for Male or 1 for Female): ')\n",
    "bmi = 22 #input('Enter your bmi: ')\n",
    "smoking = 0 #input('Do you smoke?(0 for No, 1 for Yes) ')\n",
    "genetic_risk = 1 #input('what is your genetic risk level for cancer(0 for low, 1 for medium, 2 for high) ')\n",
    "physical_activity = 20 #input('how many hours a week do you spend on physical activities ')\n",
    "alcohol_intake = 5 #input('how many alcohol units do you consume per week ')\n",
    "cancer_history = 0 #input('Do you have a personal history of cancer? (0 for No, 1 for Yes) ')\n",
    "\n",
    "raw_record = [age, gender, bmi, smoking, genetic_risk, physical_activity, alcohol_intake, cancer_history]\n",
    "record = np.array(raw_record, type(float()))\n",
    "# we need to apply the same normalization as applied on the data used to train the model.\n",
    "record = (record - X_df_mean.values)/X_df_std.values\n",
    "record = record.reshape(1,8)\n",
    "\n",
    "prediction = model_2.predict(record)\n",
    "if prediction == 0:\n",
    "    print('You have been diagnosed to be cancer negative.')\n",
    "else:\n",
    "    print('Sorry, you have been diagnosed to be cancer positive.')"
   ]
  },
  {
   "cell_type": "markdown",
   "id": "db32c38a",
   "metadata": {
    "tags": [
     "parameters"
    ]
   },
   "source": [
    "Saving the trained model"
   ]
  },
  {
   "cell_type": "code",
   "execution_count": 30,
   "id": "5b33a665",
   "metadata": {},
   "outputs": [],
   "source": [
    "import pickle"
   ]
  },
  {
   "cell_type": "code",
   "execution_count": 31,
   "id": "59d3ceee",
   "metadata": {},
   "outputs": [],
   "source": [
    "filename = 'cancer_model.sav'\n",
    "pickle.dump(model_2, open(filename, 'wb'))"
   ]
  },
  {
   "cell_type": "code",
   "execution_count": 32,
   "id": "dcdf72fb",
   "metadata": {},
   "outputs": [],
   "source": [
    "# loading the saved model\n",
    "loaded_model = pickle.load(open('cancer_model.sav', 'rb'))"
   ]
  },
  {
   "cell_type": "code",
   "execution_count": 33,
   "id": "8361edb9",
   "metadata": {},
   "outputs": [
    {
     "name": "stdout",
     "output_type": "stream",
     "text": [
      "[0.]\n",
      "You have been diagnosed to be cancer negative.\n"
     ]
    }
   ],
   "source": [
    "input_data = (20,0,22,0,1,20,5,0)\n",
    "\n",
    "# changing the input_data to numpy array\n",
    "input_data_as_numpy_array = np.asarray(input_data)\n",
    "\n",
    "# reshape the array as we are predicting for one instance\n",
    "input_data_reshaped = input_data_as_numpy_array.reshape(1,-1)\n",
    "\n",
    "prediction = loaded_model.predict(input_data_reshaped)\n",
    "print(prediction)\n",
    "\n",
    "if (prediction[0] == 0):\n",
    "    print('You have been diagnosed to be cancer negative.')\n",
    "else:\n",
    "    print('Sorry, you have been diagnosed to be cancer positive.')"
   ]
  },
  {
   "cell_type": "code",
   "execution_count": 35,
   "id": "e7c84d56",
   "metadata": {},
   "outputs": [
    {
     "name": "stdout",
     "output_type": "stream",
     "text": [
      "Age\n",
      "Gender\n",
      "BMI\n",
      "Smoking\n",
      "GeneticRisk\n",
      "PhysicalActivity\n",
      "AlcoholIntake\n",
      "CancerHistory\n"
     ]
    }
   ],
   "source": [
    "for column in X_df.columns:\n",
    "  print(column)"
   ]
  }
 ],
 "metadata": {
  "kaggle": {
   "accelerator": "none",
   "dataSources": [
    {
     "datasetId": 5182375,
     "sourceId": 8651738,
     "sourceType": "datasetVersion"
    }
   ],
   "dockerImageVersionId": 30732,
   "isGpuEnabled": false,
   "isInternetEnabled": false,
   "language": "python",
   "sourceType": "notebook"
  },
  "kernelspec": {
   "display_name": "base",
   "language": "python",
   "name": "python3"
  },
  "language_info": {
   "codemirror_mode": {
    "name": "ipython",
    "version": 3
   },
   "file_extension": ".py",
   "mimetype": "text/x-python",
   "name": "python",
   "nbconvert_exporter": "python",
   "pygments_lexer": "ipython3",
   "version": "3.12.4"
  },
  "papermill": {
   "default_parameters": {},
   "duration": 10.709009,
   "end_time": "2024-07-05T17:19:32.400960",
   "environment_variables": {},
   "exception": null,
   "input_path": "__notebook__.ipynb",
   "output_path": "__notebook__.ipynb",
   "parameters": {},
   "start_time": "2024-07-05T17:19:21.691951",
   "version": "2.5.0"
  }
 },
 "nbformat": 4,
 "nbformat_minor": 5
}
